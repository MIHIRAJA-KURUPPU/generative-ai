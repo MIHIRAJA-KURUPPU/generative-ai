{
 "cells": [
  {
   "cell_type": "code",
   "execution_count": 3,
   "id": "62d33a0d",
   "metadata": {},
   "outputs": [],
   "source": [
    "import numpy as np\n",
    "import torch"
   ]
  },
  {
   "cell_type": "code",
   "execution_count": 5,
   "id": "e2182819",
   "metadata": {},
   "outputs": [
    {
     "name": "stdout",
     "output_type": "stream",
     "text": [
      "[1 2 3 4]\n",
      "<class 'numpy.ndarray'>\n"
     ]
    }
   ],
   "source": [
    "arr2 = np.array([1,2,3,4])\n",
    "print(arr2)\n",
    "print(type(arr2))"
   ]
  },
  {
   "cell_type": "code",
   "execution_count": 7,
   "id": "af2909b1",
   "metadata": {},
   "outputs": [
    {
     "name": "stdout",
     "output_type": "stream",
     "text": [
      "tensor([1, 2, 3, 4])\n",
      "<class 'torch.Tensor'>\n"
     ]
    }
   ],
   "source": [
    "tens2=torch.from_numpy(arr2)\n",
    "print(tens2)\n",
    "print(type(tens2))"
   ]
  },
  {
   "cell_type": "code",
   "execution_count": 8,
   "id": "58e5108f",
   "metadata": {},
   "outputs": [
    {
     "name": "stdout",
     "output_type": "stream",
     "text": [
      "tensor([ 1, 10,  3,  4])\n"
     ]
    }
   ],
   "source": [
    "tens2[1]=10\n",
    "print(tens2)"
   ]
  },
  {
   "cell_type": "code",
   "execution_count": 10,
   "id": "dc316c9a",
   "metadata": {},
   "outputs": [
    {
     "name": "stdout",
     "output_type": "stream",
     "text": [
      "[ 1 10  3  4]\n"
     ]
    }
   ],
   "source": [
    "print(arr2)"
   ]
  },
  {
   "cell_type": "code",
   "execution_count": 11,
   "id": "20ac38f5",
   "metadata": {},
   "outputs": [
    {
     "name": "stdout",
     "output_type": "stream",
     "text": [
      "tensor([10, 11, 12, 13])\n",
      "<class 'torch.Tensor'>\n"
     ]
    }
   ],
   "source": [
    "arr3 = np.array([10,11,12,13])\n",
    "tens3= torch.tensor(arr3)\n",
    "print(tens3)\n",
    "print(type(tens3))"
   ]
  },
  {
   "cell_type": "code",
   "execution_count": 12,
   "id": "91f9d5fc",
   "metadata": {},
   "outputs": [
    {
     "name": "stdout",
     "output_type": "stream",
     "text": [
      "tensor([14, 11, 12, 13])\n",
      "[10 11 12 13]\n"
     ]
    }
   ],
   "source": [
    "tens3[0]=14\n",
    "print(tens3)\n",
    "print(arr3)"
   ]
  }
 ],
 "metadata": {
  "kernelspec": {
   "display_name": "generative-ai",
   "language": "python",
   "name": "python3"
  },
  "language_info": {
   "codemirror_mode": {
    "name": "ipython",
    "version": 3
   },
   "file_extension": ".py",
   "mimetype": "text/x-python",
   "name": "python",
   "nbconvert_exporter": "python",
   "pygments_lexer": "ipython3",
   "version": "3.12.3"
  }
 },
 "nbformat": 4,
 "nbformat_minor": 5
}
