{
 "cells": [
  {
   "cell_type": "code",
   "execution_count": 3,
   "id": "ec73cf04",
   "metadata": {},
   "outputs": [],
   "source": [
    "import torch\n",
    "import torch.nn as nn\n",
    "import torch.optim as optim\n",
    "import torchvision\n",
    "import torchvision.transforms as transforms\n",
    "import matplotlib.pyplot as plt \n",
    "import numpy as np "
   ]
  },
  {
   "cell_type": "code",
   "execution_count": 7,
   "id": "5069700f",
   "metadata": {},
   "outputs": [],
   "source": [
    "trainset = torchvision.datasets.MNIST(\n",
    "    root='./data',\n",
    "    train=True,\n",
    "    download=True,\n",
    "    transform=transforms.ToTensor()\n",
    ")"
   ]
  },
  {
   "cell_type": "markdown",
   "id": "980aad9a",
   "metadata": {},
   "source": [
    "transforms.ToTensor() is used to convert the images into tensors (which PyTorch can understand).\n",
    "MNIST dataset contains handwritten digits (0 to 9), each image is 28x28 pixels in grayscale.\n",
    "root='./data' specifies where the dataset should be downloaded/stored.\n",
    "train=True loads the training split.\n",
    "download=True ensures it gets downloaded if not already present.\n",
    "\n",
    "transforms.ToTensor(): converts a PIL image or NumPy ndarray (like the ones in the MNIST dataset) into a PyTorch tensor, and also normalizes the pixel values:\n",
    "Original image pixel values are from 0 to 255.After ToTensor(), they are converted to float values between 0 and 1.\n",
    "\n"
   ]
  },
  {
   "cell_type": "code",
   "execution_count": 12,
   "id": "9a5b5d96",
   "metadata": {},
   "outputs": [
    {
     "name": "stdout",
     "output_type": "stream",
     "text": [
      "torch.Size([1, 28, 28])\n",
      "5\n",
      "60000\n"
     ]
    }
   ],
   "source": [
    "#print(trainset[0])\n",
    "image,label = trainset[0]\n",
    "print(image.shape)\n",
    "print(label)\n",
    "print(len(trainset))\n"
   ]
  },
  {
   "cell_type": "code",
   "execution_count": 13,
   "id": "ef1de755",
   "metadata": {},
   "outputs": [],
   "source": [
    "trainloader =torch.utils.data.DataLoader(trainset,batch_size=32,shuffle=True )"
   ]
  },
  {
   "cell_type": "code",
   "execution_count": 16,
   "id": "ff575d30",
   "metadata": {},
   "outputs": [],
   "source": [
    "class GenBlock(nn.Module):\n",
    "    def __init___(self, in_features, out_features):\n",
    "        super(GenBlock,self).__init__()\n",
    "        self.main = nn.Sequential(\n",
    "            nn.Linear(in_features, out_features),\n",
    "            nn.ReLU(True)\n",
    "        )\n",
    "    \n",
    "    def forward(self,x):\n",
    "        return self.main(x)"
   ]
  },
  {
   "cell_type": "code",
   "execution_count": 18,
   "id": "98e1009d",
   "metadata": {},
   "outputs": [],
   "source": [
    "class Generator(nn.Module):\n",
    "    def __init__(self):\n",
    "        super(Generator,self).__init__()\n",
    "        self.main = nn.Sequential(\n",
    "            GenBlock(100,256),\n",
    "            GenBlock(256,512),\n",
    "            GenBlock(512,1024),\n",
    "            nn.Linear(1024,28*28),\n",
    "            nn.Tanh() # Tranforming the values in the range of -1 and 1 \n",
    "        )\n",
    "    def forward(self,input_size):\n",
    "        return self.main(input.view(-1,1,28,28))"
   ]
  },
  {
   "cell_type": "code",
   "execution_count": null,
   "id": "3ce1f979",
   "metadata": {},
   "outputs": [],
   "source": [
    "Class DisBlock"
   ]
  },
  {
   "cell_type": "code",
   "execution_count": null,
   "id": "db45dcd7",
   "metadata": {},
   "outputs": [],
   "source": [
    "\n",
    "class Discriminator"
   ]
  }
 ],
 "metadata": {
  "kernelspec": {
   "display_name": "generative-ai",
   "language": "python",
   "name": "python3"
  },
  "language_info": {
   "codemirror_mode": {
    "name": "ipython",
    "version": 3
   },
   "file_extension": ".py",
   "mimetype": "text/x-python",
   "name": "python",
   "nbconvert_exporter": "python",
   "pygments_lexer": "ipython3",
   "version": "3.12.3"
  }
 },
 "nbformat": 4,
 "nbformat_minor": 5
}
